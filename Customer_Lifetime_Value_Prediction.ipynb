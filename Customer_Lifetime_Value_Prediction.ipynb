{
  "nbformat": 4,
  "nbformat_minor": 0,
  "metadata": {
    "colab": {
      "provenance": []
    },
    "kernelspec": {
      "name": "python3",
      "display_name": "Python 3"
    },
    "language_info": {
      "name": "python"
    }
  },
  "cells": [
    {
      "cell_type": "markdown",
      "source": [
        "Importing the Libraries"
      ],
      "metadata": {
        "id": "7sd8RvI8qsi4"
      }
    },
    {
      "cell_type": "code",
      "execution_count": 1,
      "metadata": {
        "id": "6556Fm1Zqp79"
      },
      "outputs": [],
      "source": [
        "import numpy as np\n",
        "import matplotlib.pyplot as plt\n",
        "import pandas as pd\n",
        "from sklearn.preprocessing import OneHotEncoder, StandardScaler\n",
        "from sklearn.compose import ColumnTransformer\n",
        "from sklearn.model_selection import train_test_split\n",
        "from sklearn.linear_model import LinearRegression\n",
        "from sklearn.svm import SVR\n",
        "import seaborn as sns\n",
        "from sklearn.metrics import mean_squared_error, r2_score\n",
        "from sklearn.ensemble import RandomForestRegressor"
      ]
    },
    {
      "cell_type": "markdown",
      "source": [
        "Importing the Dataset"
      ],
      "metadata": {
        "id": "NBKbdDkLrEQ6"
      }
    },
    {
      "cell_type": "code",
      "source": [
        "dataset = pd.read_csv('customer_acquisition_data.csv')\n",
        "X = dataset.iloc[:, 1:-1].values\n",
        "y = dataset.iloc[:, -1].values"
      ],
      "metadata": {
        "id": "6lONO3LEqsUa"
      },
      "execution_count": 2,
      "outputs": []
    },
    {
      "cell_type": "markdown",
      "source": [
        "Encoding the Categorical value"
      ],
      "metadata": {
        "id": "nK1kQlDlsQ4f"
      }
    },
    {
      "cell_type": "code",
      "source": [
        "ct = ColumnTransformer(transformers=[('encoder', OneHotEncoder(), [0])], remainder='passthrough')\n",
        "X = np.array(ct.fit_transform(X))"
      ],
      "metadata": {
        "id": "TSq6IEXIsPeC"
      },
      "execution_count": 3,
      "outputs": []
    },
    {
      "cell_type": "markdown",
      "source": [
        "Feature scaling"
      ],
      "metadata": {
        "id": "P5ebGVDntQE6"
      }
    },
    {
      "cell_type": "code",
      "source": [
        "sc = StandardScaler()\n",
        "X[:, 4:] = sc.fit_transform(X[:, 4:])"
      ],
      "metadata": {
        "id": "nBshGyzDtciy"
      },
      "execution_count": 4,
      "outputs": []
    },
    {
      "cell_type": "markdown",
      "source": [
        "Splitting Data into Training and Test Set"
      ],
      "metadata": {
        "id": "6ak3IibIty4y"
      }
    },
    {
      "cell_type": "code",
      "source": [
        "X_train, X_test, y_train, y_test = train_test_split(X, y, test_size = 0.2, random_state = 42)"
      ],
      "metadata": {
        "id": "ujT_3Gn6t4rK"
      },
      "execution_count": 5,
      "outputs": []
    },
    {
      "cell_type": "markdown",
      "source": [
        "Training the Linear Model"
      ],
      "metadata": {
        "id": "YCV3Q_Orue7S"
      }
    },
    {
      "cell_type": "code",
      "source": [
        "regressor = LinearRegression()\n",
        "regressor.fit(X_train, y_train)\n",
        "y_pred = regressor.predict(X_test)"
      ],
      "metadata": {
        "id": "jAEN0mPgujNZ"
      },
      "execution_count": 6,
      "outputs": []
    },
    {
      "cell_type": "markdown",
      "source": [
        "Evaluating Performance of model"
      ],
      "metadata": {
        "id": "LUlMocyewlao"
      }
    },
    {
      "cell_type": "code",
      "source": [
        "rmse_linear = mean_squared_error(y_test, y_pred, squared=False)\n",
        "r2_linear = r2_score(y_test, y_pred)\n",
        "print(f\"Linear Regression - RMSE: {rmse_linear}, R^2: {r2_linear}\")"
      ],
      "metadata": {
        "colab": {
          "base_uri": "https://localhost:8080/"
        },
        "id": "sAtpELmQvkZ0",
        "outputId": "206471b9-0999-476e-b6ce-af9db416064c"
      },
      "execution_count": 7,
      "outputs": [
        {
          "output_type": "stream",
          "name": "stdout",
          "text": [
            "Linear Regression - RMSE: 1304.359258410044, R^2: -0.032313364740372386\n"
          ]
        },
        {
          "output_type": "stream",
          "name": "stderr",
          "text": [
            "/usr/local/lib/python3.10/dist-packages/sklearn/metrics/_regression.py:492: FutureWarning: 'squared' is deprecated in version 1.4 and will be removed in 1.6. To calculate the root mean squared error, use the function'root_mean_squared_error'.\n",
            "  warnings.warn(\n"
          ]
        }
      ]
    },
    {
      "cell_type": "markdown",
      "source": [
        "##SVR"
      ],
      "metadata": {
        "id": "wl8AJK_Nw2xa"
      }
    },
    {
      "cell_type": "code",
      "source": [
        "regressor_svr = SVR(kernel='rbf')\n",
        "regressor_svr.fit(X_train, y_train)\n",
        "y_pred_svr = regressor_svr.predict(X_test)"
      ],
      "metadata": {
        "id": "onTfhXLjxGnj"
      },
      "execution_count": 8,
      "outputs": []
    },
    {
      "cell_type": "markdown",
      "source": [
        "Evaluating Performance of model"
      ],
      "metadata": {
        "id": "2rAppyHWzMiq"
      }
    },
    {
      "cell_type": "code",
      "source": [
        "rmse_svr = mean_squared_error(y_test, y_pred_svr, squared=False)\n",
        "r2_svr = r2_score(y_test, y_pred_svr)\n",
        "\n",
        "# Display results\n",
        "print(f\"SVR - RMSE: {rmse_svr}, R^2: {r2_svr}\")"
      ],
      "metadata": {
        "colab": {
          "base_uri": "https://localhost:8080/"
        },
        "id": "T82-3hsUzQpR",
        "outputId": "537ff9e2-d102-4759-d698-1d307fa23b0d"
      },
      "execution_count": 9,
      "outputs": [
        {
          "output_type": "stream",
          "name": "stdout",
          "text": [
            "SVR - RMSE: 1290.8235175059556, R^2: -0.01099926064952017\n"
          ]
        },
        {
          "output_type": "stream",
          "name": "stderr",
          "text": [
            "/usr/local/lib/python3.10/dist-packages/sklearn/metrics/_regression.py:492: FutureWarning: 'squared' is deprecated in version 1.4 and will be removed in 1.6. To calculate the root mean squared error, use the function'root_mean_squared_error'.\n",
            "  warnings.warn(\n"
          ]
        }
      ]
    },
    {
      "cell_type": "markdown",
      "source": [
        "##Random Forest"
      ],
      "metadata": {
        "id": "C7K7nrD3zULT"
      }
    },
    {
      "cell_type": "code",
      "source": [
        "regressor_rf = RandomForestRegressor(n_estimators=100, random_state=42)\n",
        "regressor_rf.fit(X_train, y_train)\n",
        "y_pred_rf = regressor_rf.predict(X_test)"
      ],
      "metadata": {
        "id": "q04zK_5kzXT5"
      },
      "execution_count": 10,
      "outputs": []
    },
    {
      "cell_type": "markdown",
      "source": [
        "Evaluating Performance of model"
      ],
      "metadata": {
        "id": "Fhsb1X2SDalg"
      }
    },
    {
      "cell_type": "code",
      "source": [
        "# Evaluating Random Forest Model\n",
        "rmse_rf = mean_squared_error(y_test, y_pred_rf, squared=False)\n",
        "r2_rf = r2_score(y_test, y_pred_rf)\n",
        "print(f\"Random Forest Regression - RMSE: {rmse_rf}, R^2: {r2_rf}\")"
      ],
      "metadata": {
        "colab": {
          "base_uri": "https://localhost:8080/"
        },
        "id": "KK4MA02zDiDh",
        "outputId": "593661f7-957c-499f-f6cf-f94c75fa6f45"
      },
      "execution_count": 11,
      "outputs": [
        {
          "output_type": "stream",
          "name": "stdout",
          "text": [
            "Random Forest Regression - RMSE: 1297.090594557001, R^2: -0.020840096612159797\n"
          ]
        },
        {
          "output_type": "stream",
          "name": "stderr",
          "text": [
            "/usr/local/lib/python3.10/dist-packages/sklearn/metrics/_regression.py:492: FutureWarning: 'squared' is deprecated in version 1.4 and will be removed in 1.6. To calculate the root mean squared error, use the function'root_mean_squared_error'.\n",
            "  warnings.warn(\n"
          ]
        }
      ]
    }
  ]
}